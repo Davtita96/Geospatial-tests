{
 "cells": [
  {
   "cell_type": "code",
   "execution_count": 1,
   "metadata": {},
   "outputs": [],
   "source": [
    "import geemap"
   ]
  },
  {
   "cell_type": "code",
   "execution_count": 14,
   "metadata": {},
   "outputs": [
    {
     "data": {
      "text/html": [
       "\n",
       "            <style>\n",
       "                .geemap-dark {\n",
       "                    --jp-widgets-color: white;\n",
       "                    --jp-widgets-label-color: white;\n",
       "                    --jp-ui-font-color1: white;\n",
       "                    --jp-layout-color2: #454545;\n",
       "                    background-color: #383838;\n",
       "                }\n",
       "\n",
       "                .geemap-dark .jupyter-button {\n",
       "                    --jp-layout-color3: #383838;\n",
       "                }\n",
       "\n",
       "                .geemap-colab {\n",
       "                    background-color: var(--colab-primary-surface-color, white);\n",
       "                }\n",
       "\n",
       "                .geemap-colab .jupyter-button {\n",
       "                    --jp-layout-color3: var(--colab-primary-surface-color, white);\n",
       "                }\n",
       "            </style>\n",
       "            "
      ],
      "text/plain": [
       "<IPython.core.display.HTML object>"
      ]
     },
     "metadata": {},
     "output_type": "display_data"
    },
    {
     "data": {
      "application/vnd.jupyter.widget-view+json": {
       "model_id": "55638753050a41b893a8c55e269b9d32",
       "version_major": 2,
       "version_minor": 0
      },
      "text/plain": [
       "Map(center=[38.1151, 13.3508], controls=(WidgetControl(options=['position', 'transparent_bg'], widget=SearchDa…"
      ]
     },
     "execution_count": 14,
     "metadata": {},
     "output_type": "execute_result"
    }
   ],
   "source": [
    "# Center coordinates (converted to decimal format)\n",
    "center_coords = [38.1151, 13.3508]\n",
    "\n",
    "# Initialize the map centered on the given coordinates\n",
    "m = geemap.Map(center=center_coords, zoom=10, height='600px')\n",
    "\n",
    "m.add_basemap(\"CartoDB.DarkMatter\")\n",
    "\n",
    "# Add text to the map\n",
    "text = \"Davide Tita\"\n",
    "m.add_text(text, fontsize=10, position='bottomright')\n",
    "\n",
    "# Add a logo to the map\n",
    "logo = 'https://tse3.mm.bing.net/th?id=OIP.y_0RA3ahpjhJFSbyGXeaOQHaEH&pid=Api'\n",
    "m.add_image(logo, position='bottomright', width='100px', height='80px')\n",
    "\n",
    "# Add GeoJSON data to the map\n",
    "cables = 'https://open.gishub.org/data/vector/cables.geojson'\n",
    "callback = lambda feat: {\"color\": feat[\"properties\"][\"color\"], \"weight\": 1}\n",
    "m.add_geojson(cables, layer_name=\"Cable lines\", style_callback=callback)\n",
    "\n",
    "# Display the map\n",
    "m"
   ]
  }
 ],
 "metadata": {
  "kernelspec": {
   "display_name": "gee",
   "language": "python",
   "name": "python3"
  },
  "language_info": {
   "codemirror_mode": {
    "name": "ipython",
    "version": 3
   },
   "file_extension": ".py",
   "mimetype": "text/x-python",
   "name": "python",
   "nbconvert_exporter": "python",
   "pygments_lexer": "ipython3",
   "version": "3.12.3"
  }
 },
 "nbformat": 4,
 "nbformat_minor": 2
}
