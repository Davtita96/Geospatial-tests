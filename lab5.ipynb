{
 "cells": [
  {
   "cell_type": "code",
   "execution_count": 16,
   "metadata": {},
   "outputs": [
    {
     "data": {
      "text/html": [
       "\n",
       "            <style>\n",
       "                .geemap-dark {\n",
       "                    --jp-widgets-color: white;\n",
       "                    --jp-widgets-label-color: white;\n",
       "                    --jp-ui-font-color1: white;\n",
       "                    --jp-layout-color2: #454545;\n",
       "                    background-color: #383838;\n",
       "                }\n",
       "\n",
       "                .geemap-dark .jupyter-button {\n",
       "                    --jp-layout-color3: #383838;\n",
       "                }\n",
       "\n",
       "                .geemap-colab {\n",
       "                    background-color: var(--colab-primary-surface-color, white);\n",
       "                }\n",
       "\n",
       "                .geemap-colab .jupyter-button {\n",
       "                    --jp-layout-color3: var(--colab-primary-surface-color, white);\n",
       "                }\n",
       "            </style>\n",
       "            "
      ],
      "text/plain": [
       "<IPython.core.display.HTML object>"
      ]
     },
     "metadata": {},
     "output_type": "display_data"
    },
    {
     "data": {
      "application/vnd.jupyter.widget-view+json": {
       "model_id": "ca225fc703be49d297b66edd7704f0e5",
       "version_major": 2,
       "version_minor": 0
      },
      "text/plain": [
       "Map(center=[37.6, 14.0], controls=(WidgetControl(options=['position', 'transparent_bg'], widget=SearchDataGUI(…"
      ]
     },
     "execution_count": 16,
     "metadata": {},
     "output_type": "execute_result"
    }
   ],
   "source": [
    "\n",
    "import geemap\n",
    "import ee\n",
    "\n",
    "# Initialize the Earth Engine module\n",
    "ee.Initialize()\n",
    "\n",
    "# Define a region of interest (Sicily)\n",
    "sicily = ee.Geometry.Rectangle([11.0, 36.0, 15.5, 38.5])  # [minlon, minlat, maxlon, maxlat]\n",
    "\n",
    "# Load Sentinel-2 data and filter by date and region\n",
    "sentinel2 = ee.ImageCollection('COPERNICUS/S2') \\\n",
    "            .filterBounds(sicily) \\\n",
    "            .filterDate('2023-01-01', '2023-12-31') \\\n",
    "            .filter(ee.Filter.lt('CLOUDY_PIXEL_PERCENTAGE', 20))\n",
    "\n",
    "# Function to create a false-color composite (B8, B4, B3)\n",
    "def falseColorComposite(image):\n",
    "    return image.select(['B8', 'B4', 'B3']).clip(sicily)\n",
    "\n",
    "# Map the false-color function over the image collection\n",
    "false_color_collection = sentinel2.map(falseColorComposite)\n",
    "\n",
    "# Select the first image in the collection\n",
    "first_image = false_color_collection.first()\n",
    "\n",
    "# Visualization parameters for the false-color composite\n",
    "vis_params_false_color = {\n",
    "    'min': 0,\n",
    "    'max': 3000,\n",
    "    'bands': ['B8', 'B4', 'B3'],\n",
    "    'gamma': 1.4\n",
    "}\n",
    "\n",
    "# Load a DEM dataset for Sicily\n",
    "dem = ee.Image('USGS/SRTMGL1_003').clip(sicily)\n",
    "\n",
    "# Visualization parameters for the DEM\n",
    "vis_params_dem = {\n",
    "    'min': 0,\n",
    "    'max': 3000,\n",
    "    'palette': ['000000', 'ffffff']  # Black to white color palette for DEM\n",
    "}\n",
    "\n",
    "# Create a map centered on Sicily\n",
    "Map = geemap.Map(center=[37.6, 14.0], zoom=8)\n",
    "\n",
    "# Add the false-color composite to the map\n",
    "Map.addLayer(first_image, vis_params_false_color, 'False-Color Composite')\n",
    "\n",
    "# Add the DEM to the map\n",
    "Map.addLayer(dem, vis_params_dem, 'DEM')\n",
    "Map.add_colorbar(vis_params_dem, label=\"Elevation (m)\", layer_name=\"SRTM DEM\")\n",
    "Map\n",
    "\n"
   ]
  },
  {
   "cell_type": "code",
   "execution_count": 17,
   "metadata": {},
   "outputs": [
    {
     "data": {
      "text/html": [
       "\n",
       "            <style>\n",
       "                .geemap-dark {\n",
       "                    --jp-widgets-color: white;\n",
       "                    --jp-widgets-label-color: white;\n",
       "                    --jp-ui-font-color1: white;\n",
       "                    --jp-layout-color2: #454545;\n",
       "                    background-color: #383838;\n",
       "                }\n",
       "\n",
       "                .geemap-dark .jupyter-button {\n",
       "                    --jp-layout-color3: #383838;\n",
       "                }\n",
       "\n",
       "                .geemap-colab {\n",
       "                    background-color: var(--colab-primary-surface-color, white);\n",
       "                }\n",
       "\n",
       "                .geemap-colab .jupyter-button {\n",
       "                    --jp-layout-color3: var(--colab-primary-surface-color, white);\n",
       "                }\n",
       "            </style>\n",
       "            "
      ],
      "text/plain": [
       "<IPython.core.display.HTML object>"
      ]
     },
     "metadata": {},
     "output_type": "display_data"
    },
    {
     "data": {
      "application/vnd.jupyter.widget-view+json": {
       "model_id": "fa13cf29a73649e08493cfc66c2b18f6",
       "version_major": 2,
       "version_minor": 0
      },
      "text/plain": [
       "Map(center=[37.6, 14.0], controls=(WidgetControl(options=['position', 'transparent_bg'], widget=SearchDataGUI(…"
      ]
     },
     "execution_count": 17,
     "metadata": {},
     "output_type": "execute_result"
    },
    {
     "name": "stderr",
     "output_type": "stream",
     "text": [
      "No such comm: 7f334b6c65c14728ab5adc6f45421a1a\n"
     ]
    },
    {
     "data": {
      "application/javascript": "\n        var code = IPython.notebook.insert_cell_below('code');\n        code.set_text(atob(\"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\"));\n    ",
      "text/plain": [
       "<IPython.core.display.Javascript object>"
      ]
     },
     "metadata": {},
     "output_type": "display_data"
    },
    {
     "data": {
      "application/javascript": "\n        var code = IPython.notebook.insert_cell_below('code');\n        code.set_text(atob(\"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\"));\n    ",
      "text/plain": [
       "<IPython.core.display.Javascript object>"
      ]
     },
     "metadata": {},
     "output_type": "display_data"
    },
    {
     "data": {
      "application/javascript": "\n        var code = IPython.notebook.insert_cell_below('code');\n        code.set_text(atob(\"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\"));\n    ",
      "text/plain": [
       "<IPython.core.display.Javascript object>"
      ]
     },
     "metadata": {},
     "output_type": "display_data"
    }
   ],
   "source": [
    "import geemap\n",
    "import ee\n",
    "\n",
    "# Initialize the Earth Engine module\n",
    "ee.Initialize()\n",
    "\n",
    "# Define a region of interest (Sicily)\n",
    "sicily = ee.Geometry.Rectangle([11.0, 36.0, 15.5, 38.5])  # [minlon, minlat, maxlon, maxlat]\n",
    "\n",
    "# Load Sentinel-2 data and filter by date and region\n",
    "sentinel2 = ee.ImageCollection('COPERNICUS/S2') \\\n",
    "            .filterBounds(sicily) \\\n",
    "            .filterDate('2023-01-01', '2023-12-31') \\\n",
    "            .filter(ee.Filter.lt('CLOUDY_PIXEL_PERCENTAGE', 20))\n",
    "\n",
    "# Function to create a false-color composite (B8, B4, B3)\n",
    "def falseColorComposite(image):\n",
    "    return image.select(['B8', 'B4', 'B3']).clip(sicily)\n",
    "\n",
    "# Map the false-color function over the image collection\n",
    "false_color_collection = sentinel2.map(falseColorComposite)\n",
    "\n",
    "# Select the first image in the collection\n",
    "first_image = false_color_collection.first()\n",
    "\n",
    "# Visualization parameters for the false-color composite\n",
    "vis_params_false_color = {\n",
    "    'min': 0,\n",
    "    'max': 3000,\n",
    "    'bands': ['B8', 'B4', 'B3'],\n",
    "    'gamma': 1.4\n",
    "}\n",
    "\n",
    "# Load a DEM dataset for Sicily\n",
    "dem = ee.Image('USGS/SRTMGL1_003').clip(sicily)\n",
    "\n",
    "# Visualization parameters for the DEM (change color palette)\n",
    "vis_params_dem = {\n",
    "    'min': 0,\n",
    "    'max': 3000,\n",
    "    'palette': ['blue', 'cyan', 'green', 'yellow', 'orange', 'red']  # Custom color palette for DEM\n",
    "}\n",
    "\n",
    "# Create a map centered on Sicily\n",
    "Map = geemap.Map(center=[37.6, 14.0], zoom=8)\n",
    "\n",
    "# Add the false-color composite to the map\n",
    "Map.addLayer(first_image, vis_params_false_color, 'False-Color Composite')\n",
    "\n",
    "# Add the DEM to the map with the custom color palette\n",
    "Map.addLayer(dem, vis_params_dem, 'DEM')\n",
    "Map.add_colorbar( vis_params_dem, label=\"Elevation (m)\", layer_name=\"SRTM DEM\")\n",
    "\n",
    "# Display the map\n",
    "Map\n"
   ]
  },
  {
   "cell_type": "code",
   "execution_count": 19,
   "metadata": {},
   "outputs": [
    {
     "data": {
      "text/html": [
       "\n",
       "            <style>\n",
       "                .geemap-dark {\n",
       "                    --jp-widgets-color: white;\n",
       "                    --jp-widgets-label-color: white;\n",
       "                    --jp-ui-font-color1: white;\n",
       "                    --jp-layout-color2: #454545;\n",
       "                    background-color: #383838;\n",
       "                }\n",
       "\n",
       "                .geemap-dark .jupyter-button {\n",
       "                    --jp-layout-color3: #383838;\n",
       "                }\n",
       "\n",
       "                .geemap-colab {\n",
       "                    background-color: var(--colab-primary-surface-color, white);\n",
       "                }\n",
       "\n",
       "                .geemap-colab .jupyter-button {\n",
       "                    --jp-layout-color3: var(--colab-primary-surface-color, white);\n",
       "                }\n",
       "            </style>\n",
       "            "
      ],
      "text/plain": [
       "<IPython.core.display.HTML object>"
      ]
     },
     "metadata": {},
     "output_type": "display_data"
    },
    {
     "data": {
      "text/plain": [
       "[13.7865, 37.5849, 14.5033, 38.0351]"
      ]
     },
     "execution_count": 19,
     "metadata": {},
     "output_type": "execute_result"
    }
   ],
   "source": [
    "Map.user_roi_coords()"
   ]
  },
  {
   "cell_type": "code",
   "execution_count": 27,
   "metadata": {},
   "outputs": [
    {
     "data": {
      "text/html": [
       "\n",
       "            <style>\n",
       "                .geemap-dark {\n",
       "                    --jp-widgets-color: white;\n",
       "                    --jp-widgets-label-color: white;\n",
       "                    --jp-ui-font-color1: white;\n",
       "                    --jp-layout-color2: #454545;\n",
       "                    background-color: #383838;\n",
       "                }\n",
       "\n",
       "                .geemap-dark .jupyter-button {\n",
       "                    --jp-layout-color3: #383838;\n",
       "                }\n",
       "\n",
       "                .geemap-colab {\n",
       "                    background-color: var(--colab-primary-surface-color, white);\n",
       "                }\n",
       "\n",
       "                .geemap-colab .jupyter-button {\n",
       "                    --jp-layout-color3: var(--colab-primary-surface-color, white);\n",
       "                }\n",
       "            </style>\n",
       "            "
      ],
      "text/plain": [
       "<IPython.core.display.HTML object>"
      ]
     },
     "metadata": {},
     "output_type": "display_data"
    }
   ],
   "source": [
    "roi= ee.Geometry.Rectangle([13.7865, 37.5849, 14.5033, 38.0351])\n"
   ]
  },
  {
   "cell_type": "code",
   "execution_count": 35,
   "metadata": {},
   "outputs": [
    {
     "data": {
      "text/html": [
       "\n",
       "            <style>\n",
       "                .geemap-dark {\n",
       "                    --jp-widgets-color: white;\n",
       "                    --jp-widgets-label-color: white;\n",
       "                    --jp-ui-font-color1: white;\n",
       "                    --jp-layout-color2: #454545;\n",
       "                    background-color: #383838;\n",
       "                }\n",
       "\n",
       "                .geemap-dark .jupyter-button {\n",
       "                    --jp-layout-color3: #383838;\n",
       "                }\n",
       "\n",
       "                .geemap-colab {\n",
       "                    background-color: var(--colab-primary-surface-color, white);\n",
       "                }\n",
       "\n",
       "                .geemap-colab .jupyter-button {\n",
       "                    --jp-layout-color3: var(--colab-primary-surface-color, white);\n",
       "                }\n",
       "            </style>\n",
       "            "
      ],
      "text/plain": [
       "<IPython.core.display.HTML object>"
      ]
     },
     "metadata": {},
     "output_type": "display_data"
    },
    {
     "data": {
      "application/vnd.jupyter.widget-view+json": {
       "model_id": "89d66be4ca0a45c7929dfc4f246a38d6",
       "version_major": 2,
       "version_minor": 0
      },
      "text/plain": [
       "Map(center=[38.0, 13.75], controls=(WidgetControl(options=['position', 'transparent_bg'], widget=SearchDataGUI…"
      ]
     },
     "execution_count": 35,
     "metadata": {},
     "output_type": "execute_result"
    }
   ],
   "source": [
    "roi = ee.Geometry.Rectangle(13.7865, 37.5849, 14.5033, 38.0351)\n",
    "\n",
    "# Function to create and display a map with a transparent fill for the ROI\n",
    "def map_with_transparent_fill(roi):\n",
    "    # Create a map centered on Sicily\n",
    "    Map = geemap.Map(center=[38.0, 13.75], zoom=8)\n",
    "\n",
    "    # Add the ROI to the map with transparent fill\n",
    "    Map.addLayer(roi, {'color': 'FF0000', 'fillColor': '', 'width': 0}, 'Sicily Region')\n",
    "\n",
    "    # Display the map\n",
    "    Map.addLayerControl()  # Add layer control widget for user interaction\n",
    "    return Map\n",
    "\n",
    "# Display the map with transparent fill for the ROI\n",
    "map_with_transparent_fill(roi)\n"
   ]
  },
  {
   "cell_type": "code",
   "execution_count": 40,
   "metadata": {},
   "outputs": [
    {
     "data": {
      "text/html": [
       "\n",
       "            <style>\n",
       "                .geemap-dark {\n",
       "                    --jp-widgets-color: white;\n",
       "                    --jp-widgets-label-color: white;\n",
       "                    --jp-ui-font-color1: white;\n",
       "                    --jp-layout-color2: #454545;\n",
       "                    background-color: #383838;\n",
       "                }\n",
       "\n",
       "                .geemap-dark .jupyter-button {\n",
       "                    --jp-layout-color3: #383838;\n",
       "                }\n",
       "\n",
       "                .geemap-colab {\n",
       "                    background-color: var(--colab-primary-surface-color, white);\n",
       "                }\n",
       "\n",
       "                .geemap-colab .jupyter-button {\n",
       "                    --jp-layout-color3: var(--colab-primary-surface-color, white);\n",
       "                }\n",
       "            </style>\n",
       "            "
      ],
      "text/plain": [
       "<IPython.core.display.HTML object>"
      ]
     },
     "metadata": {},
     "output_type": "display_data"
    },
    {
     "data": {
      "application/vnd.jupyter.widget-view+json": {
       "model_id": "4b2c216c063846e9bf610d7b15159bbc",
       "version_major": 2,
       "version_minor": 0
      },
      "text/plain": [
       "Map(center=[43.5017, -0.9911], controls=(WidgetControl(options=['position', 'transparent_bg'], widget=SearchDa…"
      ]
     },
     "execution_count": 40,
     "metadata": {},
     "output_type": "execute_result"
    }
   ],
   "source": [
    "import ee\n",
    "import geemap\n",
    "\n",
    "# Initialize Earth Engine\n",
    "ee.Initialize()\n",
    "\n",
    "# Load the dataset\n",
    "dataset = ee.ImageCollection('ESA/WorldCereal/2021/MODELS/v100')\n",
    "\n",
    "# Set satellite background\n",
    "Map = geemap.Map()\n",
    "Map.setOptions('SATELLITE')\n",
    "\n",
    "# Function to mask the \"other\" class (value 0)\n",
    "def mask_other(img):\n",
    "    return img.updateMask(img.neq(0))\n",
    "\n",
    "# Apply the mask_other function to the collection\n",
    "dataset = dataset.map(mask_other)\n",
    "\n",
    "# --------------------------------------------------\n",
    "# Basic example for a global mosaic of temporary crops\n",
    "# --------------------------------------------------\n",
    "\n",
    "# Get a global mosaic for all agro-ecological zone (AEZ) of temporary crops\n",
    "temporarycrops = dataset.filter(ee.Filter.eq('product', 'temporarycrops')).mosaic()\n",
    "\n",
    "# Visualization specifics\n",
    "visualization_class = {\n",
    "    'bands': [\"classification\"],\n",
    "    'max': 100,\n",
    "    'palette': [\"#ff0000\"]\n",
    "}\n",
    "\n",
    "visualization_conf = {\n",
    "    'bands': ['confidence'],\n",
    "    'min': 0,\n",
    "    'max': 100,\n",
    "    'palette': ['be0000', 'fff816', '069711'],\n",
    "}\n",
    "\n",
    "# Show global classification mosaic\n",
    "Map.centerObject(temporarycrops)\n",
    "Map.addLayer(temporarycrops, visualization_class, 'Temporary crops')\n",
    "\n",
    "# By default don't show confidence layer\n",
    "Map.addLayer(temporarycrops, visualization_conf, 'Temporary crops confidence', False)\n",
    "\n",
    "# --------------------------------------------------\n",
    "# Advanced example for tc-maize-main season products\n",
    "# in a specific AEZ\n",
    "# --------------------------------------------------\n",
    "\n",
    "# Filter on AEZ and season\n",
    "tc_maize_main_46172 = dataset.filter(ee.Filter.eq('season', 'tc-maize-main')) \\\n",
    "                             .filter(ee.Filter.eq('aez_id', 46172))\n",
    "\n",
    "# Get the different products\n",
    "maize = tc_maize_main_46172.filter(ee.Filter.eq('product', 'maize'))\n",
    "irrigation = tc_maize_main_46172.filter(ee.Filter.eq('product', 'irrigation'))\n",
    "\n",
    "# Visualization specifics\n",
    "visualization_maize = {\n",
    "    'bands': [\"classification\"],\n",
    "    'max': 100,\n",
    "    'palette': [\"#ebc334\"]\n",
    "}\n",
    "\n",
    "visualization_irrigation = {\n",
    "    'bands': [\"classification\"],\n",
    "    'max': 100,\n",
    "    'palette': [\"#2d79eb\"]\n",
    "}\n",
    "\n",
    "# Show maize and irrigation classification\n",
    "Map.addLayer(maize, visualization_maize, 'Maize')\n",
    "Map.addLayer(irrigation, visualization_irrigation, 'Active irrigation')\n",
    "\n",
    "# Add legends\n",
    "legend_keys = ['Temporary crops', 'Maize', 'Active irrigation']\n",
    "legend_colors = ['#ff0000', '#ebc334', '#2d79eb']\n",
    "Map.add_legend(legend_keys=legend_keys, legend_colors=legend_colors)\n",
    "\n",
    "# Uncomment the line below to zoom to a region\n",
    "# where maize, other crops and active irrigation are visible\n",
    "Map.setCenter(-0.9911, 43.5017, 12)\n",
    "\n",
    "# Display the map\n",
    "Map.addLayerControl()  # Add layer control widget for user interaction\n",
    "Map\n"
   ]
  },
  {
   "cell_type": "code",
   "execution_count": 42,
   "metadata": {},
   "outputs": [
    {
     "data": {
      "text/html": [
       "\n",
       "            <style>\n",
       "                .geemap-dark {\n",
       "                    --jp-widgets-color: white;\n",
       "                    --jp-widgets-label-color: white;\n",
       "                    --jp-ui-font-color1: white;\n",
       "                    --jp-layout-color2: #454545;\n",
       "                    background-color: #383838;\n",
       "                }\n",
       "\n",
       "                .geemap-dark .jupyter-button {\n",
       "                    --jp-layout-color3: #383838;\n",
       "                }\n",
       "\n",
       "                .geemap-colab {\n",
       "                    background-color: var(--colab-primary-surface-color, white);\n",
       "                }\n",
       "\n",
       "                .geemap-colab .jupyter-button {\n",
       "                    --jp-layout-color3: var(--colab-primary-surface-color, white);\n",
       "                }\n",
       "            </style>\n",
       "            "
      ],
      "text/plain": [
       "<IPython.core.display.HTML object>"
      ]
     },
     "metadata": {},
     "output_type": "display_data"
    },
    {
     "data": {
      "application/vnd.jupyter.widget-view+json": {
       "model_id": "5fc1a31d783344b9b21f6cc0904610b8",
       "version_major": 2,
       "version_minor": 0
      },
      "text/plain": [
       "Map(center=[0, 0], controls=(WidgetControl(options=['position', 'transparent_bg'], widget=SearchDataGUI(childr…"
      ]
     },
     "execution_count": 42,
     "metadata": {},
     "output_type": "execute_result"
    }
   ],
   "source": [
    "import ee\n",
    "import geemap\n",
    "\n",
    "# Initialize Earth Engine\n",
    "ee.Initialize()\n",
    "\n",
    "# Load the dataset\n",
    "dataset = ee.ImageCollection('ESA/WorldCereal/2021/MODELS/v100')\n",
    "\n",
    "# Define a geometry for Sicily\n",
    "sicily_geometry = ee.Geometry.Polygon(\n",
    "    [[[11.472416, 36.619987],\n",
    "      [11.472416, 38.288231],\n",
    "      [15.689207, 38.288231],\n",
    "      [15.689207, 36.619987]]])\n",
    "\n",
    "# Filter dataset to Sicily\n",
    "dataset_sicily = dataset.filterBounds(sicily_geometry)\n",
    "\n",
    "# Set satellite background\n",
    "Map = geemap.Map()\n",
    "Map.setOptions('SATELLITE')\n",
    "\n",
    "# Function to mask the \"other\" class (value 0)\n",
    "def mask_other(img):\n",
    "    return img.updateMask(img.neq(0))\n",
    "\n",
    "# Apply the mask_other function to the collection\n",
    "dataset_sicily = dataset_sicily.map(mask_other)\n",
    "\n",
    "# --------------------------------------------------\n",
    "# Basic example for a global mosaic of temporary crops\n",
    "# --------------------------------------------------\n",
    "\n",
    "# Get a global mosaic for all agro-ecological zone (AEZ) of temporary crops in Sicily\n",
    "temporarycrops_sicily = dataset_sicily.filter(ee.Filter.eq('product', 'temporarycrops')).mosaic()\n",
    "\n",
    "# Visualization specifics\n",
    "visualization_class = {\n",
    "    'bands': [\"classification\"],\n",
    "    'max': 100,\n",
    "    'palette': [\"#ff0000\"]\n",
    "}\n",
    "\n",
    "visualization_conf = {\n",
    "    'bands': ['confidence'],\n",
    "    'min': 0,\n",
    "    'max': 100,\n",
    "    'palette': ['be0000', 'fff816', '069711'],\n",
    "}\n",
    "\n",
    "# Add legends\n",
    "legend_keys = ['Temporary crops', 'Maize', 'Active irrigation']\n",
    "legend_colors = ['#ff0000', '#ebc334', '#2d79eb']\n",
    "Map.add_legend(legend_keys=legend_keys, legend_colors=legend_colors)\n",
    "\n",
    "# Show global classification mosaic for Sicily\n",
    "Map.centerObject(sicily_geometry)\n",
    "Map.addLayer(temporarycrops_sicily, visualization_class, 'Temporary crops - Sicily')\n",
    "\n",
    "# By default don't show confidence layer\n",
    "Map.addLayer(temporarycrops_sicily, visualization_conf, 'Temporary crops confidence - Sicily', False)\n",
    "\n",
    "# Display the map\n",
    "Map.addLayerControl()  # Add layer control widget for user interaction\n",
    "Map\n"
   ]
  }
 ],
 "metadata": {
  "kernelspec": {
   "display_name": "base",
   "language": "python",
   "name": "python3"
  },
  "language_info": {
   "codemirror_mode": {
    "name": "ipython",
    "version": 3
   },
   "file_extension": ".py",
   "mimetype": "text/x-python",
   "name": "python",
   "nbconvert_exporter": "python",
   "pygments_lexer": "ipython3",
   "version": "3.12.3"
  }
 },
 "nbformat": 4,
 "nbformat_minor": 2
}
