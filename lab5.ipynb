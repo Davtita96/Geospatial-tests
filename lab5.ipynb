{
 "cells": [
  {
   "cell_type": "code",
   "execution_count": 7,
   "metadata": {},
   "outputs": [
    {
     "data": {
      "text/html": [
       "\n",
       "            <style>\n",
       "                .geemap-dark {\n",
       "                    --jp-widgets-color: white;\n",
       "                    --jp-widgets-label-color: white;\n",
       "                    --jp-ui-font-color1: white;\n",
       "                    --jp-layout-color2: #454545;\n",
       "                    background-color: #383838;\n",
       "                }\n",
       "\n",
       "                .geemap-dark .jupyter-button {\n",
       "                    --jp-layout-color3: #383838;\n",
       "                }\n",
       "\n",
       "                .geemap-colab {\n",
       "                    background-color: var(--colab-primary-surface-color, white);\n",
       "                }\n",
       "\n",
       "                .geemap-colab .jupyter-button {\n",
       "                    --jp-layout-color3: var(--colab-primary-surface-color, white);\n",
       "                }\n",
       "            </style>\n",
       "            "
      ],
      "text/plain": [
       "<IPython.core.display.HTML object>"
      ]
     },
     "metadata": {},
     "output_type": "display_data"
    },
    {
     "data": {
      "application/vnd.jupyter.widget-view+json": {
       "model_id": "8c08acbd7b284915b34470033db2ab83",
       "version_major": 2,
       "version_minor": 0
      },
      "text/plain": [
       "Map(center=[37.6, 14.0], controls=(WidgetControl(options=['position', 'transparent_bg'], widget=SearchDataGUI(…"
      ]
     },
     "execution_count": 7,
     "metadata": {},
     "output_type": "execute_result"
    }
   ],
   "source": [
    "import geemap\n",
    "import ee\n",
    "\n",
    "# Initialize the Earth Engine module\n",
    "ee.Initialize()\n",
    "\n",
    "# Define a region of interest (Sicily)\n",
    "sicily = ee.Geometry.Rectangle([11.0, 36.0, 15.5, 38.5])  # [minlon, minlat, maxlon, maxlat]\n",
    "\n",
    "# Load Sentinel-2 data and filter by date and region\n",
    "sentinel2 = ee.ImageCollection('COPERNICUS/S2') \\\n",
    "            .filterBounds(sicily) \\\n",
    "            .filterDate('2021-01-01', '2021-12-31') \\\n",
    "            .filter(ee.Filter.lt('CLOUDY_PIXEL_PERCENTAGE', 20))\n",
    "\n",
    "# Function to create a false-color composite (B8, B4, B3)\n",
    "def falseColorComposite(image):\n",
    "    return image.select(['B8', 'B4', 'B3']).clip(sicily)\n",
    "\n",
    "# Map the false-color function over the image collection\n",
    "false_color_collection = sentinel2.map(falseColorComposite)\n",
    "\n",
    "# Select the first image in the collection\n",
    "first_image = false_color_collection.first()\n",
    "\n",
    "# Visualization parameters for the false-color composite\n",
    "vis_params_false_color = {\n",
    "    'min': 0,\n",
    "    'max': 3000,\n",
    "    'bands': ['B8', 'B4', 'B3'],\n",
    "    'gamma': 1.4\n",
    "}\n",
    "\n",
    "# Load a DEM dataset for Sicily\n",
    "dem = ee.Image('USGS/SRTMGL1_003').clip(sicily)\n",
    "\n",
    "# Visualization parameters for the DEM\n",
    "vis_params_dem = {\n",
    "    'min': 0,\n",
    "    'max': 3000,\n",
    "    'palette': ['000000', 'ffffff']  # Black to white color palette for DEM\n",
    "}\n",
    "\n",
    "# Create a map centered on Sicily\n",
    "Map = geemap.Map(center=[37.6, 14.0], zoom=8)\n",
    "\n",
    "# Add the false-color composite to the map\n",
    "Map.addLayer(first_image, vis_params_false_color, 'False-Color Composite')\n",
    "\n",
    "# Add the DEM to the map\n",
    "Map.addLayer(dem, vis_params_dem, 'DEM')\n",
    "\n",
    "# Display the map\n",
    "Map\n",
    "\n"
   ]
  },
  {
   "cell_type": "code",
   "execution_count": 10,
   "metadata": {},
   "outputs": [
    {
     "data": {
      "text/html": [
       "\n",
       "            <style>\n",
       "                .geemap-dark {\n",
       "                    --jp-widgets-color: white;\n",
       "                    --jp-widgets-label-color: white;\n",
       "                    --jp-ui-font-color1: white;\n",
       "                    --jp-layout-color2: #454545;\n",
       "                    background-color: #383838;\n",
       "                }\n",
       "\n",
       "                .geemap-dark .jupyter-button {\n",
       "                    --jp-layout-color3: #383838;\n",
       "                }\n",
       "\n",
       "                .geemap-colab {\n",
       "                    background-color: var(--colab-primary-surface-color, white);\n",
       "                }\n",
       "\n",
       "                .geemap-colab .jupyter-button {\n",
       "                    --jp-layout-color3: var(--colab-primary-surface-color, white);\n",
       "                }\n",
       "            </style>\n",
       "            "
      ],
      "text/plain": [
       "<IPython.core.display.HTML object>"
      ]
     },
     "metadata": {},
     "output_type": "display_data"
    },
    {
     "data": {
      "application/vnd.jupyter.widget-view+json": {
       "model_id": "a96ff8bbcc7a4133b12e6794e57afbb8",
       "version_major": 2,
       "version_minor": 0
      },
      "text/plain": [
       "Map(center=[37.6, 14.0], controls=(WidgetControl(options=['position', 'transparent_bg'], widget=SearchDataGUI(…"
      ]
     },
     "execution_count": 10,
     "metadata": {},
     "output_type": "execute_result"
    }
   ],
   "source": [
    "import geemap\n",
    "import ee\n",
    "\n",
    "# Initialize the Earth Engine module\n",
    "ee.Initialize()\n",
    "\n",
    "# Define a region of interest (Sicily)\n",
    "sicily = ee.Geometry.Rectangle([11.0, 36.0, 15.5, 38.5])  # [minlon, minlat, maxlon, maxlat]\n",
    "\n",
    "# Load Sentinel-2 data and filter by date and region\n",
    "sentinel2 = ee.ImageCollection('COPERNICUS/S2') \\\n",
    "            .filterBounds(sicily) \\\n",
    "            .filterDate('2021-01-01', '2021-12-31') \\\n",
    "            .filter(ee.Filter.lt('CLOUDY_PIXEL_PERCENTAGE', 20))\n",
    "\n",
    "# Function to create a false-color composite (B8, B4, B3)\n",
    "def falseColorComposite(image):\n",
    "    return image.select(['B8', 'B4', 'B3']).clip(sicily)\n",
    "\n",
    "# Map the false-color function over the image collection\n",
    "false_color_collection = sentinel2.map(falseColorComposite)\n",
    "\n",
    "# Select the first image in the collection\n",
    "first_image = false_color_collection.first()\n",
    "\n",
    "# Visualization parameters for the false-color composite\n",
    "vis_params_false_color = {\n",
    "    'min': 0,\n",
    "    'max': 3000,\n",
    "    'bands': ['B8', 'B4', 'B3'],\n",
    "    'gamma': 1.4\n",
    "}\n",
    "\n",
    "# Load a DEM dataset for Sicily\n",
    "dem = ee.Image('USGS/SRTMGL1_003').clip(sicily)\n",
    "\n",
    "# Visualization parameters for the DEM (change color palette)\n",
    "vis_params_dem = {\n",
    "    'min': 0,\n",
    "    'max': 3000,\n",
    "    'palette': ['blue', 'cyan', 'green', 'yellow', 'orange', 'red']  # Custom color palette for DEM\n",
    "}\n",
    "\n",
    "# Create a map centered on Sicily\n",
    "Map = geemap.Map(center=[37.6, 14.0], zoom=8)\n",
    "\n",
    "# Add the false-color composite to the map\n",
    "Map.addLayer(first_image, vis_params_false_color, 'False-Color Composite')\n",
    "\n",
    "# Add the DEM to the map with the custom color palette\n",
    "Map.addLayer(dem, vis_params_dem, 'DEM')\n",
    "Map.add_colorbar( vis_params_dem, label=\"Elevation (m)\", layer_name=\"SRTM DEM\")\n",
    "\n",
    "# Display the map\n",
    "Map\n"
   ]
  }
 ],
 "metadata": {
  "kernelspec": {
   "display_name": "base",
   "language": "python",
   "name": "python3"
  },
  "language_info": {
   "codemirror_mode": {
    "name": "ipython",
    "version": 3
   },
   "file_extension": ".py",
   "mimetype": "text/x-python",
   "name": "python",
   "nbconvert_exporter": "python",
   "pygments_lexer": "ipython3",
   "version": "3.12.3"
  }
 },
 "nbformat": 4,
 "nbformat_minor": 2
}
